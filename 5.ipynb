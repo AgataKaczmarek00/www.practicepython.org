{
 "cells": [
  {
   "cell_type": "code",
   "execution_count": null,
   "id": "53505be4",
   "metadata": {},
   "outputs": [],
   "source": [
    "#Take two lists, say for example these two:\n",
    "#  a = [1, 1, 2, 3, 5, 8, 13, 21, 34, 55, 89]\n",
    "#  b = [1, 2, 3, 4, 5, 6, 7, 8, 9, 10, 11, 12, 13]\n",
    "# and write a program that returns a list that contains only the elements that are common between the lists (without duplicates)"
   ]
  },
  {
   "cell_type": "code",
   "execution_count": 1,
   "id": "48b7285c",
   "metadata": {},
   "outputs": [],
   "source": [
    "  a = [1, 1, 2, 3, 5, 8, 13, 21, 34, 55, 89]\n",
    "  b = [1, 2, 3, 4, 5, 6, 7, 8, 9, 10, 11, 12, 13]"
   ]
  },
  {
   "cell_type": "code",
   "execution_count": 4,
   "id": "835614b1",
   "metadata": {},
   "outputs": [],
   "source": [
    "c = set(a + b)"
   ]
  },
  {
   "cell_type": "code",
   "execution_count": 5,
   "id": "cdc7a10f",
   "metadata": {},
   "outputs": [
    {
     "name": "stdout",
     "output_type": "stream",
     "text": [
      "{1, 2, 3, 34, 5, 4, 6, 8, 7, 9, 10, 11, 13, 12, 21, 55, 89}\n"
     ]
    }
   ],
   "source": [
    "print(c)"
   ]
  },
  {
   "cell_type": "code",
   "execution_count": null,
   "id": "cd155b36",
   "metadata": {},
   "outputs": [],
   "source": []
  }
 ],
 "metadata": {
  "kernelspec": {
   "display_name": "Python 3",
   "language": "python",
   "name": "python3"
  },
  "language_info": {
   "codemirror_mode": {
    "name": "ipython",
    "version": 3
   },
   "file_extension": ".py",
   "mimetype": "text/x-python",
   "name": "python",
   "nbconvert_exporter": "python",
   "pygments_lexer": "ipython3",
   "version": "3.8.8"
  }
 },
 "nbformat": 4,
 "nbformat_minor": 5
}
