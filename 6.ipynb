{
 "cells": [
  {
   "cell_type": "code",
   "execution_count": null,
   "id": "162f0d22",
   "metadata": {},
   "outputs": [],
   "source": [
    "#Ask the user for a string and print out whether this string is a palindrome or not."
   ]
  },
  {
   "cell_type": "code",
   "execution_count": 9,
   "id": "871c917d",
   "metadata": {},
   "outputs": [
    {
     "name": "stdout",
     "output_type": "stream",
     "text": [
      "Give me one word: agata\n",
      "Your word is: agata\n"
     ]
    }
   ],
   "source": [
    "string = input(\"Give me one word: \")\n",
    "print('Your word is: '+ string)"
   ]
  },
  {
   "cell_type": "code",
   "execution_count": 10,
   "id": "7fd0f0a0",
   "metadata": {},
   "outputs": [
    {
     "name": "stdout",
     "output_type": "stream",
     "text": [
      "one letter: a\n",
      "one letter: g\n",
      "one letter: a\n",
      "one letter: t\n",
      "one letter: a\n"
     ]
    }
   ],
   "source": [
    "for c in string:\n",
    "    print('one letter: ' + c)"
   ]
  },
  {
   "cell_type": "code",
   "execution_count": 11,
   "id": "e49c9832",
   "metadata": {},
   "outputs": [
    {
     "name": "stdout",
     "output_type": "stream",
     "text": [
      "not palindrome\n"
     ]
    }
   ],
   "source": [
    "if string == string[::-1]:\n",
    "    print(\"palindrome\")\n",
    "else:\n",
    "    print(\"not palindrome\")"
   ]
  },
  {
   "cell_type": "code",
   "execution_count": 12,
   "id": "ab4dc37c",
   "metadata": {},
   "outputs": [
    {
     "name": "stdout",
     "output_type": "stream",
     "text": [
      "ataga\n"
     ]
    }
   ],
   "source": [
    "#odwrócenie liter\n",
    "print(string[::-1])"
   ]
  },
  {
   "cell_type": "code",
   "execution_count": null,
   "id": "fe554e7e",
   "metadata": {},
   "outputs": [],
   "source": []
  }
 ],
 "metadata": {
  "kernelspec": {
   "display_name": "Python 3",
   "language": "python",
   "name": "python3"
  },
  "language_info": {
   "codemirror_mode": {
    "name": "ipython",
    "version": 3
   },
   "file_extension": ".py",
   "mimetype": "text/x-python",
   "name": "python",
   "nbconvert_exporter": "python",
   "pygments_lexer": "ipython3",
   "version": "3.8.8"
  }
 },
 "nbformat": 4,
 "nbformat_minor": 5
}
