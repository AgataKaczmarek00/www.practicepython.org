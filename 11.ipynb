{
 "cells": [
  {
   "cell_type": "code",
   "execution_count": 1,
   "id": "8caed7ba",
   "metadata": {},
   "outputs": [],
   "source": [
    "#Ask the user for a number and determine whether the number is prime or not. "
   ]
  },
  {
   "cell_type": "code",
   "execution_count": 27,
   "id": "f9bf59d4",
   "metadata": {},
   "outputs": [
    {
     "name": "stdout",
     "output_type": "stream",
     "text": [
      "Give me a number: 2\n",
      "your number is prime\n"
     ]
    }
   ],
   "source": [
    "num = int(input(\"Give me a number: \"))\n",
    "d = [x for x in range(2, num) if num % x == 0]\n",
    "def prime(num):\n",
    "    if num > 1:\n",
    "        if len(d) == 0:\n",
    "            print('your number is prime')\n",
    "        else:\n",
    "            print ('your number is not prime')\n",
    "    else:\n",
    "        print('your number is not prime')\n",
    "prime(num)\n",
    "       "
   ]
  },
  {
   "cell_type": "code",
   "execution_count": null,
   "id": "ca7963bb",
   "metadata": {},
   "outputs": [],
   "source": []
  }
 ],
 "metadata": {
  "kernelspec": {
   "display_name": "Python 3",
   "language": "python",
   "name": "python3"
  },
  "language_info": {
   "codemirror_mode": {
    "name": "ipython",
    "version": 3
   },
   "file_extension": ".py",
   "mimetype": "text/x-python",
   "name": "python",
   "nbconvert_exporter": "python",
   "pygments_lexer": "ipython3",
   "version": "3.8.8"
  }
 },
 "nbformat": 4,
 "nbformat_minor": 5
}
