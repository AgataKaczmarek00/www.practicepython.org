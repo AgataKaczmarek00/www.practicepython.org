{
 "cells": [
  {
   "cell_type": "code",
   "execution_count": 1,
   "id": "3b20e14b",
   "metadata": {},
   "outputs": [],
   "source": [
    "#Write a program that takes a list of numbers (for example, a = [5, 10, 15, 20, 25]) \n",
    "#and makes a new list of only the first and last elements of the given list."
   ]
  },
  {
   "cell_type": "code",
   "execution_count": 2,
   "id": "68136562",
   "metadata": {},
   "outputs": [],
   "source": [
    "a = [5, 10, 15, 20, 25]"
   ]
  },
  {
   "cell_type": "code",
   "execution_count": 12,
   "id": "5b4f1ea4",
   "metadata": {},
   "outputs": [
    {
     "name": "stdout",
     "output_type": "stream",
     "text": [
      "[5, 25]\n"
     ]
    }
   ],
   "source": [
    "b = []\n",
    "b.append(a[0])\n",
    "b.append(a[-1])\n",
    "print(b)"
   ]
  },
  {
   "cell_type": "code",
   "execution_count": null,
   "id": "9c4ac804",
   "metadata": {},
   "outputs": [],
   "source": [
    "#For practice, write this code inside a function."
   ]
  },
  {
   "cell_type": "code",
   "execution_count": 23,
   "id": "7b9985e2",
   "metadata": {},
   "outputs": [
    {
     "name": "stdout",
     "output_type": "stream",
     "text": [
      "[5, 25]\n"
     ]
    }
   ],
   "source": [
    "def list(a):\n",
    "    return [a[0], a[len(a)-1]]\n",
    "print(list(a))"
   ]
  },
  {
   "cell_type": "code",
   "execution_count": null,
   "id": "f7b36fb1",
   "metadata": {},
   "outputs": [],
   "source": []
  }
 ],
 "metadata": {
  "kernelspec": {
   "display_name": "Python 3",
   "language": "python",
   "name": "python3"
  },
  "language_info": {
   "codemirror_mode": {
    "name": "ipython",
    "version": 3
   },
   "file_extension": ".py",
   "mimetype": "text/x-python",
   "name": "python",
   "nbconvert_exporter": "python",
   "pygments_lexer": "ipython3",
   "version": "3.8.8"
  }
 },
 "nbformat": 4,
 "nbformat_minor": 5
}
