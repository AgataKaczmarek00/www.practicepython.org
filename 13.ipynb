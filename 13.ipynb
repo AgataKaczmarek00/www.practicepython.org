{
 "cells": [
  {
   "cell_type": "code",
   "execution_count": 1,
   "id": "51869b88",
   "metadata": {},
   "outputs": [],
   "source": [
    "#Write a program that asks the user how many Fibonnaci numbers to generate and then generates them. Take this opportunity to think about how you can use functions. \n",
    "#Make sure to ask the user to enter the number of numbers in the sequence to generate."
   ]
  },
  {
   "cell_type": "code",
   "execution_count": 18,
   "id": "4fa77bbd",
   "metadata": {},
   "outputs": [
    {
     "name": "stdout",
     "output_type": "stream",
     "text": [
      "How many Fibonacci numbers do you want? 10\n",
      "[1, 1, 2, 3, 5, 8, 13, 21, 34, 55]\n",
      "4\n"
     ]
    },
    {
     "data": {
      "text/plain": [
       "'4'"
      ]
     },
     "execution_count": 18,
     "metadata": {},
     "output_type": "execute_result"
    }
   ],
   "source": [
    "def fib():\n",
    "    i = 1\n",
    "    num = int(input(\"How many Fibonacci numbers do you want? \"))\n",
    "    if num == 0:\n",
    "        fib = []\n",
    "    elif num == 1:\n",
    "        fib = [1]\n",
    "    elif num == 2:\n",
    "        fib = [1,1]\n",
    "    elif num > 2:\n",
    "        fib = [1,1]\n",
    "        while i < (num-1):\n",
    "            fib.append(fib[i] + fib[i-1])\n",
    "            i += 1\n",
    "    return fib\n",
    "print(fib())"
   ]
  },
  {
   "cell_type": "code",
   "execution_count": null,
   "id": "e52e4845",
   "metadata": {},
   "outputs": [],
   "source": []
  }
 ],
 "metadata": {
  "kernelspec": {
   "display_name": "Python 3",
   "language": "python",
   "name": "python3"
  },
  "language_info": {
   "codemirror_mode": {
    "name": "ipython",
    "version": 3
   },
   "file_extension": ".py",
   "mimetype": "text/x-python",
   "name": "python",
   "nbconvert_exporter": "python",
   "pygments_lexer": "ipython3",
   "version": "3.8.8"
  }
 },
 "nbformat": 4,
 "nbformat_minor": 5
}
