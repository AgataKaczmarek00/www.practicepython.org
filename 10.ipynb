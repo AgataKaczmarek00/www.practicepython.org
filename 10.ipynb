{
 "cells": [
  {
   "cell_type": "code",
   "execution_count": 1,
   "id": "00212eb7",
   "metadata": {},
   "outputs": [],
   "source": [
    "# Take two lists and write a program that returns a list that contains only the elements that are common between the lists (without duplicates). \n",
    "# Make sure your program works on two lists of different sizes. \n",
    "# Extra: Randomly generate two lists to test this"
   ]
  },
  {
   "cell_type": "code",
   "execution_count": 6,
   "id": "93a7130a",
   "metadata": {},
   "outputs": [],
   "source": [
    "import random"
   ]
  },
  {
   "cell_type": "code",
   "execution_count": 14,
   "id": "5e9f0a39",
   "metadata": {},
   "outputs": [],
   "source": [
    "a = random.sample(range(100), 15)\n",
    "b = random.sample(range(100), 18)"
   ]
  },
  {
   "cell_type": "code",
   "execution_count": 15,
   "id": "881ce911",
   "metadata": {},
   "outputs": [
    {
     "name": "stdout",
     "output_type": "stream",
     "text": [
      "[72, 14, 58, 91, 28, 31]\n"
     ]
    }
   ],
   "source": [
    "result = [i for i in set(a) if i in b]\n",
    "print(result)"
   ]
  },
  {
   "cell_type": "code",
   "execution_count": null,
   "id": "67802273",
   "metadata": {},
   "outputs": [],
   "source": []
  }
 ],
 "metadata": {
  "kernelspec": {
   "display_name": "Python 3",
   "language": "python",
   "name": "python3"
  },
  "language_info": {
   "codemirror_mode": {
    "name": "ipython",
    "version": 3
   },
   "file_extension": ".py",
   "mimetype": "text/x-python",
   "name": "python",
   "nbconvert_exporter": "python",
   "pygments_lexer": "ipython3",
   "version": "3.8.8"
  }
 },
 "nbformat": 4,
 "nbformat_minor": 5
}
