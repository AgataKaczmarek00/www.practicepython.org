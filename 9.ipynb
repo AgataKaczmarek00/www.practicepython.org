{
 "cells": [
  {
   "cell_type": "code",
   "execution_count": 1,
   "id": "5405610d",
   "metadata": {},
   "outputs": [],
   "source": [
    "#Generate a random number between 1 and 9 (including 1 and 9). \n",
    "#Ask the user to guess the number, then tell them whether they guessed too low, too high, or exactly right. "
   ]
  },
  {
   "cell_type": "code",
   "execution_count": 1,
   "id": "ad073258",
   "metadata": {},
   "outputs": [],
   "source": [
    "import random"
   ]
  },
  {
   "cell_type": "code",
   "execution_count": 3,
   "id": "144e063d",
   "metadata": {},
   "outputs": [
    {
     "name": "stdout",
     "output_type": "stream",
     "text": [
      "Enter a guess between 1 to 9: 8\n",
      "too high\n"
     ]
    }
   ],
   "source": [
    "a = random.randint(1, 9)\n",
    "b = int(input('Enter a guess between 1 to 9: '))\n",
    "if a > b:\n",
    "    print(\"too low\")\n",
    "elif a < b:\n",
    "    print(\"too high\")\n",
    "elif a==b:\n",
    "    print(\"exactly\")"
   ]
  },
  {
   "cell_type": "code",
   "execution_count": null,
   "id": "d0208f98",
   "metadata": {},
   "outputs": [],
   "source": []
  }
 ],
 "metadata": {
  "kernelspec": {
   "display_name": "Python 3",
   "language": "python",
   "name": "python3"
  },
  "language_info": {
   "codemirror_mode": {
    "name": "ipython",
    "version": 3
   },
   "file_extension": ".py",
   "mimetype": "text/x-python",
   "name": "python",
   "nbconvert_exporter": "python",
   "pygments_lexer": "ipython3",
   "version": "3.8.8"
  }
 },
 "nbformat": 4,
 "nbformat_minor": 5
}
