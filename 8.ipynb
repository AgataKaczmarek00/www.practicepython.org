{
 "cells": [
  {
   "cell_type": "code",
   "execution_count": 1,
   "id": "6a27a47d",
   "metadata": {},
   "outputs": [],
   "source": [
    "#Make a two-player Rock-Paper-Scissors game. "
   ]
  },
  {
   "cell_type": "code",
   "execution_count": 15,
   "id": "d116fc5a",
   "metadata": {},
   "outputs": [
    {
     "name": "stdout",
     "output_type": "stream",
     "text": [
      "Player 1. Select one od the following: paper, rock, scissors paper\n"
     ]
    }
   ],
   "source": [
    "a = input(\"Player 1. Select one od the following: paper, rock, scissors \")"
   ]
  },
  {
   "cell_type": "code",
   "execution_count": 16,
   "id": "a91db7ba",
   "metadata": {},
   "outputs": [
    {
     "name": "stdout",
     "output_type": "stream",
     "text": [
      "Player 2. Select one od the following: paper, rock, scissors rock\n"
     ]
    }
   ],
   "source": [
    "b = input(\"Player 2. Select one od the following: paper, rock, scissors \")"
   ]
  },
  {
   "cell_type": "code",
   "execution_count": 19,
   "id": "bbc314c2",
   "metadata": {},
   "outputs": [
    {
     "name": "stdout",
     "output_type": "stream",
     "text": [
      "Player 1 is a winner\n"
     ]
    }
   ],
   "source": [
    "def compare(a, b):\n",
    "    if a == b:\n",
    "        return(\"Draw!\")\n",
    "    elif a == 'rock':\n",
    "        if b == 'paper':\n",
    "            return(\"Player 2 is a winner\")\n",
    "        else:\n",
    "            return(\"Player 1 is a winner\")\n",
    "    elif a == 'paper':\n",
    "        if b == 'rock':\n",
    "            return(\"Player 1 is a winner\")\n",
    "        else:\n",
    "            return(\"Player 2 is a winner\")\n",
    "    elif a == 'scissors':\n",
    "        if b == 'rock':\n",
    "            return(\"Player 1 is winner\")\n",
    "        else:\n",
    "            return('Player 2 is a winner')\n",
    "    else:\n",
    "        return(\"You make a mistake\")\n",
    "print(compare(a,b))"
   ]
  },
  {
   "cell_type": "code",
   "execution_count": null,
   "id": "08c702bb",
   "metadata": {},
   "outputs": [],
   "source": []
  },
  {
   "cell_type": "code",
   "execution_count": null,
   "id": "43ec38e8",
   "metadata": {},
   "outputs": [],
   "source": []
  }
 ],
 "metadata": {
  "kernelspec": {
   "display_name": "Python 3",
   "language": "python",
   "name": "python3"
  },
  "language_info": {
   "codemirror_mode": {
    "name": "ipython",
    "version": 3
   },
   "file_extension": ".py",
   "mimetype": "text/x-python",
   "name": "python",
   "nbconvert_exporter": "python",
   "pygments_lexer": "ipython3",
   "version": "3.8.8"
  }
 },
 "nbformat": 4,
 "nbformat_minor": 5
}
